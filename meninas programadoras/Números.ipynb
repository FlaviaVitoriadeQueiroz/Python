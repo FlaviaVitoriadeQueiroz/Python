{
  "nbformat": 4,
  "nbformat_minor": 0,
  "metadata": {
    "colab": {
      "provenance": [],
      "authorship_tag": "ABX9TyPwedp91uz26EuLRi2l3fk8",
      "include_colab_link": true
    },
    "kernelspec": {
      "name": "python3",
      "display_name": "Python 3"
    },
    "language_info": {
      "name": "python"
    }
  },
  "cells": [
    {
      "cell_type": "markdown",
      "metadata": {
        "id": "view-in-github",
        "colab_type": "text"
      },
      "source": [
        "<a href=\"https://colab.research.google.com/github/FlaviaVitoriadeQueiroz/Introducao-a-Python/blob/main/N%C3%BAmeros.ipynb\" target=\"_parent\"><img src=\"https://colab.research.google.com/assets/colab-badge.svg\" alt=\"Open In Colab\"/></a>"
      ]
    },
    {
      "cell_type": "code",
      "execution_count": 6,
      "metadata": {
        "colab": {
          "base_uri": "https://localhost:8080/"
        },
        "id": "jJFEp0xmK5rC",
        "outputId": "0f501054-0431-4656-8f5c-889f273df68e"
      },
      "outputs": [
        {
          "output_type": "stream",
          "name": "stdout",
          "text": [
            "15\n",
            "14\n",
            "2.5\n",
            "90\n",
            "A soma é maior que a divisão\n",
            "multiplicação e soma são maiores\n"
          ]
        }
      ],
      "source": [
        "a = 10\n",
        "b = 5\n",
        "c = 18\n",
        "d = 4\n",
        "\n",
        "soma = a + b\n",
        "print(soma)\n",
        "\n",
        "subtração = c - d\n",
        "print(subtração)\n",
        "\n",
        "divisão = 10 / d\n",
        "print(divisão)\n",
        "\n",
        "multiplicação = c * b\n",
        "print(multiplicação)\n",
        "\n",
        "if soma > divisão:\n",
        "  print(\"A soma é maior que a divisão\")\n",
        "\n",
        "if multiplicação and soma > divisão or subtração:\n",
        "  print(\"multiplicação e soma são maiores\")"
      ]
    },
    {
      "cell_type": "code",
      "source": [
        "y = input()\n",
        "x = input()\n",
        "z = x + y * 2\n",
        "print(z)"
      ],
      "metadata": {
        "colab": {
          "base_uri": "https://localhost:8080/"
        },
        "id": "gGlRVbd2Ma3F",
        "outputId": "fbd6e73f-2652-416c-9df1-3625287bbccb"
      },
      "execution_count": 12,
      "outputs": [
        {
          "output_type": "stream",
          "name": "stdout",
          "text": [
            "7\n",
            "9\n",
            "977\n"
          ]
        }
      ]
    },
    {
      "cell_type": "code",
      "source": [
        "salario = float (input())\n",
        "salario1 = salario * 35\n",
        "salario2= salario1 / 100\n",
        "salariofinal = salario + salario2\n",
        "print(salariofinal)"
      ],
      "metadata": {
        "colab": {
          "base_uri": "https://localhost:8080/"
        },
        "id": "DH56nnM7No4_",
        "outputId": "fd5672e0-ebe5-4038-c45e-cc4d785713c1"
      },
      "execution_count": 15,
      "outputs": [
        {
          "output_type": "stream",
          "name": "stdout",
          "text": [
            "690\n",
            "931.5\n"
          ]
        }
      ]
    }
  ]
}
