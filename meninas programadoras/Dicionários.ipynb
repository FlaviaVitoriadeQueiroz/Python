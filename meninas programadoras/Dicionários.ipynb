{
  "nbformat": 4,
  "nbformat_minor": 0,
  "metadata": {
    "colab": {
      "provenance": [],
      "authorship_tag": "ABX9TyPf6r7d9u8kQfs6yH6IPEAz",
      "include_colab_link": true
    },
    "kernelspec": {
      "name": "python3",
      "display_name": "Python 3"
    },
    "language_info": {
      "name": "python"
    }
  },
  "cells": [
    {
      "cell_type": "markdown",
      "metadata": {
        "id": "view-in-github",
        "colab_type": "text"
      },
      "source": [
        "<a href=\"https://colab.research.google.com/github/FlaviaVitoriadeQueiroz/Introducao-a-Python/blob/main/Dicion%C3%A1rios.ipynb\" target=\"_parent\"><img src=\"https://colab.research.google.com/assets/colab-badge.svg\" alt=\"Open In Colab\"/></a>"
      ]
    },
    {
      "cell_type": "code",
      "execution_count": 2,
      "metadata": {
        "colab": {
          "base_uri": "https://localhost:8080/"
        },
        "id": "eplT8FIHQyVU",
        "outputId": "9100e109-83d5-4466-c98d-f86f5f8a79e0"
      },
      "outputs": [
        {
          "output_type": "stream",
          "name": "stdout",
          "text": [
            "7.8\n"
          ]
        }
      ],
      "source": [
        "dicionário= {\"uva\": 8, \"limão\": 12.90, \"morango\": 7.8}\n",
        "print(dicionário[\"morango\"])"
      ]
    },
    {
      "cell_type": "code",
      "execution_count": 5,
      "metadata": {
        "colab": {
          "base_uri": "https://localhost:8080/"
        },
        "outputId": "7fcb6cec-469b-4b36-a062-22706d7c1a4f",
        "id": "Bizgic5eRohw"
      },
      "outputs": [
        {
          "output_type": "stream",
          "name": "stdout",
          "text": [
            "{'uva': 7, 'limão': 12.9, 'morango': 7.8, 'caju': 15}\n"
          ]
        }
      ],
      "source": [
        "dicionário= {\"uva\": 8, \"limão\": 12.90, \"morango\": 7.8}\n",
        "dicionário[\"caju\"] = 15\n",
        "dicionário[\"uva\"] = 7\n",
        "print(dicionário)"
      ]
    },
    {
      "cell_type": "code",
      "source": [
        "dicionário= {\"uva\": 8, \"limão\": 12.90, \"morango\": 7.8}\n",
        "dicionário[\"caju\"] = 15\n",
        "dicionário[\"uva\"] = 7\n",
        "del dicionário[\"limão\"]\n",
        "print(dicionário)"
      ],
      "metadata": {
        "colab": {
          "base_uri": "https://localhost:8080/"
        },
        "id": "AegTrmYcSM3D",
        "outputId": "8f2f0ebc-1fa9-4912-bd71-d1723f19a0a4"
      },
      "execution_count": 7,
      "outputs": [
        {
          "output_type": "stream",
          "name": "stdout",
          "text": [
            "{'uva': 7, 'morango': 7.8, 'caju': 15}\n"
          ]
        }
      ]
    },
    {
      "cell_type": "code",
      "source": [
        "dicionário= {\"uva\": 8, \"limão\": 12.90, \"morango\": 7.8}\n",
        "dicionário[\"caju\"] = 15\n",
        "dicionário[\"uva\"] = 7\n",
        "\"caju\" in dicionário"
      ],
      "metadata": {
        "colab": {
          "base_uri": "https://localhost:8080/"
        },
        "id": "CBIKWQB4SyQH",
        "outputId": "5c93069b-594e-40e0-96a6-ce71c8faec27"
      },
      "execution_count": 8,
      "outputs": [
        {
          "output_type": "execute_result",
          "data": {
            "text/plain": [
              "True"
            ]
          },
          "metadata": {},
          "execution_count": 8
        }
      ]
    },
    {
      "cell_type": "code",
      "source": [
        "dicionário= {\"uva\": 8, \"limão\": 12.90, \"morango\": 7.8}\n",
        "dicionário[\"caju\"] = 15\n",
        "dicionário[\"uva\"] = 7\n",
        "\"chocolate\" in dicionário"
      ],
      "metadata": {
        "colab": {
          "base_uri": "https://localhost:8080/"
        },
        "id": "DV99L7YLS2E2",
        "outputId": "d8b3943e-3925-466a-c44a-51d3128e27d1"
      },
      "execution_count": 9,
      "outputs": [
        {
          "output_type": "execute_result",
          "data": {
            "text/plain": [
              "False"
            ]
          },
          "metadata": {},
          "execution_count": 9
        }
      ]
    },
    {
      "cell_type": "code",
      "source": [
        "dicionário= {\"uva\": 8, \"limão\": 12.90, \"morango\": 7.8}\n",
        "dicionário.keys()"
      ],
      "metadata": {
        "colab": {
          "base_uri": "https://localhost:8080/"
        },
        "id": "QJ42laK7S75W",
        "outputId": "3ae76d9a-f415-4cc5-a1cb-0cf38c2b8618"
      },
      "execution_count": 10,
      "outputs": [
        {
          "output_type": "execute_result",
          "data": {
            "text/plain": [
              "dict_keys(['uva', 'limão', 'morango'])"
            ]
          },
          "metadata": {},
          "execution_count": 10
        }
      ]
    },
    {
      "cell_type": "code",
      "source": [
        "dicionário= {\"uva\": 8, \"limão\": 12.90, \"morango\": 7.8}\n",
        "dicionário.values()"
      ],
      "metadata": {
        "colab": {
          "base_uri": "https://localhost:8080/"
        },
        "id": "I25cG24pUvHt",
        "outputId": "f405316c-93be-45b1-9de7-656b6d14c350"
      },
      "execution_count": 11,
      "outputs": [
        {
          "output_type": "execute_result",
          "data": {
            "text/plain": [
              "dict_values([8, 12.9, 7.8])"
            ]
          },
          "metadata": {},
          "execution_count": 11
        }
      ]
    },
    {
      "cell_type": "code",
      "source": [
        "notas= {\"Flávia\": 10, \"Vitória\": 9, \"Alfredo\": 7.9, \"Henrique\": 4.8, \"Eder\": 9.9}\n",
        "soma = sum(notas.values())\n",
        "quantidade= len(notas)\n",
        "media = soma / quantidade\n",
        "print(media)"
      ],
      "metadata": {
        "colab": {
          "base_uri": "https://localhost:8080/"
        },
        "id": "wuoLn1bRU4QB",
        "outputId": "4d662550-f892-42ae-d9c7-b5e7e9dba4ff"
      },
      "execution_count": 16,
      "outputs": [
        {
          "output_type": "stream",
          "name": "stdout",
          "text": [
            "8.32\n"
          ]
        }
      ]
    }
  ]
}
