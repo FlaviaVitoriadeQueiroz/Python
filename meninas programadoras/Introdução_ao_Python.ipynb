{
  "nbformat": 4,
  "nbformat_minor": 0,
  "metadata": {
    "colab": {
      "provenance": [],
      "authorship_tag": "ABX9TyNZQAP86JRxIhvBRCG+iMSm",
      "include_colab_link": true
    },
    "kernelspec": {
      "name": "python3",
      "display_name": "Python 3"
    },
    "language_info": {
      "name": "python"
    }
  },
  "cells": [
    {
      "cell_type": "markdown",
      "metadata": {
        "id": "view-in-github",
        "colab_type": "text"
      },
      "source": [
        "<a href=\"https://colab.research.google.com/github/FlaviaVitoriadeQueiroz/Introducao-a-Python/blob/main/Introdu%C3%A7%C3%A3o_ao_Python.ipynb\" target=\"_parent\"><img src=\"https://colab.research.google.com/assets/colab-badge.svg\" alt=\"Open In Colab\"/></a>"
      ]
    },
    {
      "cell_type": "code",
      "execution_count": 1,
      "metadata": {
        "colab": {
          "base_uri": "https://localhost:8080/"
        },
        "id": "ykrBIsu9OiDO",
        "outputId": "cc011ddc-184c-4098-88f7-a102d12f80da"
      },
      "outputs": [
        {
          "output_type": "execute_result",
          "data": {
            "text/plain": [
              "6"
            ]
          },
          "metadata": {},
          "execution_count": 1
        }
      ],
      "source": [
        "teste = \"python\"\n",
        "len(teste)\n"
      ]
    },
    {
      "cell_type": "code",
      "source": [
        "senha= input()\n",
        "len(senha)\n",
        "if len(senha) < 6:\n",
        "  print(\"Senha Fraca\")\n",
        "else:\n",
        "  print(\"Senha Forte\")"
      ],
      "metadata": {
        "colab": {
          "base_uri": "https://localhost:8080/"
        },
        "id": "iIyBgFC3P5HU",
        "outputId": "a2f16f97-b7b0-4588-d43e-a9e4464670bd"
      },
      "execution_count": 3,
      "outputs": [
        {
          "output_type": "stream",
          "name": "stdout",
          "text": [
            "oirrr\n",
            "Senha Fraca\n"
          ]
        }
      ]
    },
    {
      "cell_type": "code",
      "source": [
        "senha= input()\n",
        "len(senha)\n",
        "senha.isalnum()\n",
        "if len(senha) > 6 and senha.isalnum() == True:\n",
        "  print(\"Senha Forte\")\n",
        "else:\n",
        "  print(\"Senha Fraca\")"
      ],
      "metadata": {
        "colab": {
          "base_uri": "https://localhost:8080/"
        },
        "id": "wiCo84B2QtJL",
        "outputId": "b978a5e6-29a9-4464-a79d-77f8088ec5bb"
      },
      "execution_count": 10,
      "outputs": [
        {
          "output_type": "stream",
          "name": "stdout",
          "text": [
            "7777f\n",
            "Senha Fraca\n"
          ]
        }
      ]
    },
    {
      "cell_type": "code",
      "source": [
        "senha= input(\"A senha deve conter mais de 6 digitos, números e letras\")\n",
        "len(senha)\n",
        "senha.isalnum()\n",
        "if len(senha) > 6 and senha.isalnum() == True:\n",
        "  print(\"Senha Forte\")\n",
        "else:\n",
        "  print(\"Senha Fraca\")"
      ],
      "metadata": {
        "colab": {
          "base_uri": "https://localhost:8080/"
        },
        "id": "IKUHB_pLSvPX",
        "outputId": "88e88c0c-389c-4f3b-a3ae-f4ebbd3113d0"
      },
      "execution_count": 21,
      "outputs": [
        {
          "output_type": "stream",
          "name": "stdout",
          "text": [
            "A senha deve conter mais de 6 digitos, números e letras8900\n",
            "Senha Fraca\n"
          ]
        }
      ]
    },
    {
      "cell_type": "code",
      "source": [
        "Nome= input(\"Digite seu nome sem acentos\")\n",
        "Idade= input(\"Digite sua idade\")\n",
        "CPF= input(\"Digite seu CPF\")\n",
        "len(CPF)\n",
        "CPF.isalnum()\n",
        "Idade.isalnum()\n",
        "len(Idade)\n",
        "Nome.isalpha()\n",
        "if len(CPF) == 11 and CPF.isalnum() == True and Idade.isalnum() == True and Nome.isalpha() == True:\n",
        "  print(\"Dados Válidos\")\n",
        "else:\n",
        "  print(\"Dados Inválidos\")"
      ],
      "metadata": {
        "colab": {
          "base_uri": "https://localhost:8080/"
        },
        "id": "Wi94IlJCVRUO",
        "outputId": "d560cbee-e805-4328-c350-a25eff2d005b"
      },
      "execution_count": 26,
      "outputs": [
        {
          "output_type": "stream",
          "name": "stdout",
          "text": [
            "Digite seu nome sem acentosjhjhjh\n",
            "Digite sua idade12\n",
            "Digite seu CPF87879090900\n",
            "Dados Válidos\n"
          ]
        }
      ]
    }
  ]
}
