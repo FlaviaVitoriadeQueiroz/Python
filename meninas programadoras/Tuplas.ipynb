{
  "nbformat": 4,
  "nbformat_minor": 0,
  "metadata": {
    "colab": {
      "provenance": [],
      "authorship_tag": "ABX9TyM2/RwcVSWv85JQZv4h+16O",
      "include_colab_link": true
    },
    "kernelspec": {
      "name": "python3",
      "display_name": "Python 3"
    },
    "language_info": {
      "name": "python"
    }
  },
  "cells": [
    {
      "cell_type": "markdown",
      "metadata": {
        "id": "view-in-github",
        "colab_type": "text"
      },
      "source": [
        "<a href=\"https://colab.research.google.com/github/FlaviaVitoriadeQueiroz/Introducao-a-Python/blob/main/Tuplas.ipynb\" target=\"_parent\"><img src=\"https://colab.research.google.com/assets/colab-badge.svg\" alt=\"Open In Colab\"/></a>"
      ]
    },
    {
      "cell_type": "code",
      "execution_count": 1,
      "metadata": {
        "colab": {
          "base_uri": "https://localhost:8080/"
        },
        "id": "7lLofm2mMfBB",
        "outputId": "0254b471-91f2-4b99-e984-7a7884b89fa5"
      },
      "outputs": [
        {
          "output_type": "stream",
          "name": "stdout",
          "text": [
            "(9, 23, 56, 12, 18)\n"
          ]
        }
      ],
      "source": [
        "t = (9, 23, 56, 12, 18)\n",
        "print(t)"
      ]
    },
    {
      "cell_type": "code",
      "execution_count": 6,
      "metadata": {
        "colab": {
          "base_uri": "https://localhost:8080/"
        },
        "outputId": "6cdf434a-e46e-4387-9f4f-ab519d023e81",
        "id": "1f12uOjPNjgD"
      },
      "outputs": [
        {
          "output_type": "stream",
          "name": "stdout",
          "text": [
            "v= 9 f= 23 q= 56 a= 12 h= 18\n",
            "f+v= 32\n"
          ]
        }
      ],
      "source": [
        "t = (9, 23, 56, 12, 18)\n",
        "v, f, q, a, h = t\n",
        "print('v=',v, 'f=',f, 'q=',q, 'a=',a, 'h=',h)\n",
        "print('f+v=', f+v)"
      ]
    },
    {
      "cell_type": "markdown",
      "source": [
        "Tuplas são simiares as listas, armazenam valores, onde cada item pode ser identificado através de um índice. Porém não são mutáveis"
      ],
      "metadata": {
        "id": "tMiF7avrP-xY"
      }
    }
  ]
}
