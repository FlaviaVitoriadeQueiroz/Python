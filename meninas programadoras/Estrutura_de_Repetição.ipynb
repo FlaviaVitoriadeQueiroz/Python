{
  "nbformat": 4,
  "nbformat_minor": 0,
  "metadata": {
    "colab": {
      "provenance": [],
      "authorship_tag": "ABX9TyMztMCj0qU6BbwKGUfpjuWv",
      "include_colab_link": true
    },
    "kernelspec": {
      "name": "python3",
      "display_name": "Python 3"
    },
    "language_info": {
      "name": "python"
    }
  },
  "cells": [
    {
      "cell_type": "markdown",
      "metadata": {
        "id": "view-in-github",
        "colab_type": "text"
      },
      "source": [
        "<a href=\"https://colab.research.google.com/github/FlaviaVitoriadeQueiroz/Introducao-a-Python/blob/main/Estrutura_de_Repeti%C3%A7%C3%A3o.ipynb\" target=\"_parent\"><img src=\"https://colab.research.google.com/assets/colab-badge.svg\" alt=\"Open In Colab\"/></a>"
      ]
    },
    {
      "cell_type": "code",
      "execution_count": null,
      "metadata": {
        "colab": {
          "base_uri": "https://localhost:8080/"
        },
        "id": "x45qoGBtYQbR",
        "outputId": "21a7571b-d061-4498-f1c6-ffb895d99163"
      },
      "outputs": [
        {
          "output_type": "stream",
          "name": "stdout",
          "text": [
            "67866\n",
            "acesso negado\n",
            "9897\n",
            "acesso negado\n",
            "126578\n",
            "acesso permitido\n"
          ]
        }
      ],
      "source": [
        "#repete até ter o resultado correto\n",
        "senha= \"126578\"\n",
        "leitura= \" \"\n",
        "while (leitura != senha):\n",
        "  leitura= input()\n",
        "  if leitura == senha:\n",
        "    print(\"acesso permitido\")\n",
        "  else:\n",
        "    print(\"acesso negado\")"
      ]
    },
    {
      "cell_type": "code",
      "source": [
        "for i in range(10):\n",
        "  print(f\"Esta é a iteração número {i}\")"
      ],
      "metadata": {
        "id": "DyM9H0_JaVn4",
        "colab": {
          "base_uri": "https://localhost:8080/"
        },
        "outputId": "10762ef1-3cbd-45bd-95f7-049ed52c0653"
      },
      "execution_count": 3,
      "outputs": [
        {
          "output_type": "stream",
          "name": "stdout",
          "text": [
            "Esta é a iteração número 0\n",
            "Esta é a iteração número 1\n",
            "Esta é a iteração número 2\n",
            "Esta é a iteração número 3\n",
            "Esta é a iteração número 4\n",
            "Esta é a iteração número 5\n",
            "Esta é a iteração número 6\n",
            "Esta é a iteração número 7\n",
            "Esta é a iteração número 8\n",
            "Esta é a iteração número 9\n"
          ]
        }
      ]
    },
    {
      "cell_type": "code",
      "source": [
        "frutas = [\"maçã\", \"banana\", \"cereja\"]\n",
        "for fruta in frutas:\n",
        "    print(fruta)"
      ],
      "metadata": {
        "colab": {
          "base_uri": "https://localhost:8080/"
        },
        "id": "keC6PjFCjE7w",
        "outputId": "25237487-c910-44b3-90f0-387641c8fcf3"
      },
      "execution_count": 1,
      "outputs": [
        {
          "output_type": "stream",
          "name": "stdout",
          "text": [
            "maçã\n",
            "banana\n",
            "cereja\n"
          ]
        }
      ]
    },
    {
      "cell_type": "code",
      "source": [
        "nomes = [\"Alice\", \"Bob\", \"Charlie\"]\n",
        "for nome in nomes:\n",
        "    print(f\"Olá, {nome}!\")"
      ],
      "metadata": {
        "colab": {
          "base_uri": "https://localhost:8080/"
        },
        "id": "IvXbV5IBjbQ6",
        "outputId": "2c4a1265-c942-4ee9-e132-4137a6bcba07"
      },
      "execution_count": 2,
      "outputs": [
        {
          "output_type": "stream",
          "name": "stdout",
          "text": [
            "Olá, Alice!\n",
            "Olá, Bob!\n",
            "Olá, Charlie!\n"
          ]
        }
      ]
    },
    {
      "cell_type": "code",
      "source": [
        "media = 0\n",
        "divisão = 0\n",
        "\n",
        "for nota in range(10):\n",
        "  nota = float (input())\n",
        "  media = media + nota\n",
        "  divisão = media / 10\n",
        "print(divisão)"
      ],
      "metadata": {
        "colab": {
          "base_uri": "https://localhost:8080/"
        },
        "id": "DMHUeauAlcZG",
        "outputId": "16f4292d-eabd-4bd9-acf2-bbdd56024d6f"
      },
      "execution_count": 14,
      "outputs": [
        {
          "output_type": "stream",
          "name": "stdout",
          "text": [
            "10\n",
            "9.6\n",
            "6.5\n",
            "2\n",
            "6\n",
            "9\n",
            "8.5\n",
            "10\n",
            "5\n",
            "6.5\n",
            "7.31\n"
          ]
        }
      ]
    },
    {
      "cell_type": "code",
      "source": [
        "for tabuada in range(1, 11):\n",
        "  for multiplicador in range(0, 11):\n",
        "    resultado = tabuada * multiplicador\n",
        "    print(resultado)"
      ],
      "metadata": {
        "colab": {
          "base_uri": "https://localhost:8080/"
        },
        "id": "3iuoamemnZmU",
        "outputId": "9e4253dd-0380-42b1-8aa1-de41c3465ca9"
      },
      "execution_count": 16,
      "outputs": [
        {
          "output_type": "stream",
          "name": "stdout",
          "text": [
            "0\n",
            "1\n",
            "2\n",
            "3\n",
            "4\n",
            "5\n",
            "6\n",
            "7\n",
            "8\n",
            "9\n",
            "10\n",
            "0\n",
            "2\n",
            "4\n",
            "6\n",
            "8\n",
            "10\n",
            "12\n",
            "14\n",
            "16\n",
            "18\n",
            "20\n",
            "0\n",
            "3\n",
            "6\n",
            "9\n",
            "12\n",
            "15\n",
            "18\n",
            "21\n",
            "24\n",
            "27\n",
            "30\n",
            "0\n",
            "4\n",
            "8\n",
            "12\n",
            "16\n",
            "20\n",
            "24\n",
            "28\n",
            "32\n",
            "36\n",
            "40\n",
            "0\n",
            "5\n",
            "10\n",
            "15\n",
            "20\n",
            "25\n",
            "30\n",
            "35\n",
            "40\n",
            "45\n",
            "50\n",
            "0\n",
            "6\n",
            "12\n",
            "18\n",
            "24\n",
            "30\n",
            "36\n",
            "42\n",
            "48\n",
            "54\n",
            "60\n",
            "0\n",
            "7\n",
            "14\n",
            "21\n",
            "28\n",
            "35\n",
            "42\n",
            "49\n",
            "56\n",
            "63\n",
            "70\n",
            "0\n",
            "8\n",
            "16\n",
            "24\n",
            "32\n",
            "40\n",
            "48\n",
            "56\n",
            "64\n",
            "72\n",
            "80\n",
            "0\n",
            "9\n",
            "18\n",
            "27\n",
            "36\n",
            "45\n",
            "54\n",
            "63\n",
            "72\n",
            "81\n",
            "90\n",
            "0\n",
            "10\n",
            "20\n",
            "30\n",
            "40\n",
            "50\n",
            "60\n",
            "70\n",
            "80\n",
            "90\n",
            "100\n"
          ]
        }
      ]
    }
  ]
}
